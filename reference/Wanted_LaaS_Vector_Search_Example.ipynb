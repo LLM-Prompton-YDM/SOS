{
  "nbformat": 4,
  "nbformat_minor": 0,
  "metadata": {
    "colab": {
      "provenance": []
    },
    "kernelspec": {
      "name": "python3",
      "display_name": "Python 3"
    },
    "language_info": {
      "name": "python"
    }
  },
  "cells": [
    {
      "cell_type": "markdown",
      "source": [
        "Wanted LaaS의 Vector Search 예제입니다.\n",
        "\n",
        "LaaS 👉 https://laas.wanted.co.kr/\n",
        "\n",
        "Swagger Documents 👉 https://api-laas.wanted.co.kr/api/vector-swagger-ui/swagger-ui/index.html"
      ],
      "metadata": {
        "id": "An7IHYwQxCTJ"
      }
    },
    {
      "cell_type": "code",
      "execution_count": null,
      "metadata": {
        "id": "5JutG4GxxBEL"
      },
      "outputs": [],
      "source": [
        "import requests\n",
        "import json\n",
        "\n",
        "# 기본 상수\n",
        "BASE_URL = 'https://api-laas.wanted.co.kr/api'\n",
        "HEADERS = {'Content-Type': 'application/json'}\n",
        "API_KEY = 'your_api_key_here'\n",
        "PROJECT = 'your_project_name_here'\n",
        "\n",
        "# 인증을 위한 API KEY와 프로젝트 코드 (LaaS 대시보드에서 확인)\n",
        "HEADERS['apiKey'] = API_KEY\n",
        "HEADERS['project'] = PROJECT"
      ]
    },
    {
      "cell_type": "code",
      "source": [
        "# 컬렉션 생성\n",
        "def create_collection(collection_name: str):\n",
        "    url = f\"{BASE_URL}/collection/{collection_name}\"\n",
        "    data = {}\n",
        "    response = requests.post(url, headers=HEADERS, data=json.dumps(data))\n",
        "    return response.json()"
      ],
      "metadata": {
        "id": "wzevNIooxXKQ"
      },
      "execution_count": null,
      "outputs": []
    },
    {
      "cell_type": "code",
      "source": [
        "# 새 문서 추가: doc_id는 컬렉션 내에서 유일해야합니다.\n",
        "def add_document(collection_name: str, doc_id: int, text: str, metadata: dict):\n",
        "    url = f\"{BASE_URL}/document/{collection_name}\"\n",
        "    data = {\n",
        "        \"ids\": [doc_id],\n",
        "        \"texts\": [text],\n",
        "        \"metadata\": [metadata]\n",
        "    }\n",
        "    response = requests.put(url, headers=HEADERS, data=json.dumps(data))\n",
        "    return response.json()"
      ],
      "metadata": {
        "id": "D8xYFCIlxY7s"
      },
      "execution_count": null,
      "outputs": []
    },
    {
      "cell_type": "code",
      "source": [
        "# ID로 유사 문서 검색: add_document에서 사용한 ID의 문서와 유사한 문서를 검색합니다.\n",
        "def search_similar_documents_by_id(collection_name: str, doc_id: int):\n",
        "    url = f\"{BASE_URL}/document/{collection_name}/similar/{doc_id}\"\n",
        "    data = {\n",
        "        \"limit\": 10,  # [필수] 검색할 문서 수\n",
        "        \"offset\": 0,  # [필수] 페이징에 사용할 offset 값\n",
        "        \"with_metadata\": True,  # [선택] 응답에 메타데이터 반환 여부\n",
        "        \"with_vector\": False  # [선택] 응답에 내부 벡터 반환 여부\n",
        "    }\n",
        "    response = requests.post(url, headers=HEADERS, data=json.dumps(data))\n",
        "    return response.json()"
      ],
      "metadata": {
        "id": "pVxgFOtAxaj1"
      },
      "execution_count": null,
      "outputs": []
    },
    {
      "cell_type": "code",
      "source": [
        "# 입력 텍스트와 유사한 문서 검색\n",
        "def search_similar_documents_by_text(collection_name: str, text: str):\n",
        "    url = f\"{BASE_URL}/document/{collection_name}/similar/text\"\n",
        "    data = {\n",
        "        \"text\": text,  # [필수] 입력 텍스트\n",
        "        \"limit\": 10,  # [필수] 검색할 문서 수\n",
        "        \"offset\": 0,  # [필수] 페이징에 사용할 offset 값\n",
        "        \"with_metadata\": True,  # [선택] 응답에 메타데이터 반환 여부\n",
        "        \"with_vector\": False  # [선택] 응답에 내부 벡터 반환 여부\n",
        "    }\n",
        "    response = requests.post(url, headers=HEADERS, data=json.dumps(data))\n",
        "    return response.json()"
      ],
      "metadata": {
        "id": "5ban4ot3xcuh"
      },
      "execution_count": null,
      "outputs": []
    },
    {
      "cell_type": "code",
      "source": [
        "# ID로 필터를 포함한 유사 문서 검색\n",
        "# 필터를 사용하는 경우, 대상 필드에 인덱스 설정을 반드시 해야합니다.\n",
        "# 필터 검색을 사용하고 싶은 경우 담당자에게 문의 주세요.\n",
        "def search_similar_documents_with_filters(collection_name: str, doc_id: int, filter: dict):\n",
        "    url = f\"{BASE_URL}/document/{collection_name}/similar/{doc_id}\"\n",
        "    data = {\n",
        "        \"limit\": 10,\n",
        "        \"offset\": 0,\n",
        "        \"with_metadata\": True,\n",
        "        \"with_vector\": False,\n",
        "        \"filter\": filter\n",
        "    }\n",
        "    response = requests.post(url, headers=HEADERS, data=json.dumps(data))\n",
        "    return response.json()"
      ],
      "metadata": {
        "id": "2y5d3r2Nxd68"
      },
      "execution_count": null,
      "outputs": []
    },
    {
      "cell_type": "code",
      "source": [
        "# 사용 예시\n",
        "collection_name = \"example_collection\"\n",
        "documents = [\n",
        "    {\"id\": 1, \"text\": \"The quick brown fox jumps over the lazy dog\",\n",
        "     \"metadata\": {\"author\": \"John Doe\", \"category\": \"animal\", \"language\": \"English\"}},\n",
        "    {\"id\": 2, \"text\": \"A quick movement of the enemy will jeopardize six gunboats\",\n",
        "     \"metadata\": {\"category\": \"military\", \"language\": \"English\"}},\n",
        "    {\"id\": 3, \"text\": \"All questions asked by five watched experts amaze the judge\",\n",
        "     \"metadata\": {\"author\": \"John Doe\", \"category\": \"law\", \"language\": \"English\"}},\n",
        "    {\"id\": 4, \"text\": \"The five boxing wizards jump quickly\", \"metadata\": {\"category\": \"sport\", \"language\": \"English\"}},\n",
        "    {\"id\": 5, \"text\": \"How razorback-jumping frogs can level six piqued gymnasts\",\n",
        "     \"metadata\": {\"author\": \"John Doe\", \"category\": \"animal\", \"language\": \"English\"}},\n",
        "    {\"id\": 6, \"text\": \"Cozy lummox gives smart squid who asks for job pen\",\n",
        "     \"metadata\": {\"category\": \"employment\", \"language\": \"English\"}},\n",
        "    {\"id\": 7, \"text\": \"Jinxed wizards pluck ivy from the big quilt\",\n",
        "     \"metadata\": {\"author\": \"John Doe\", \"category\": \"fantasy\", \"language\": \"English\"}},\n",
        "    {\"id\": 8, \"text\": \"The job requires extra pluck and zeal from every young wage earner\",\n",
        "     \"metadata\": {\"category\": \"employment\", \"language\": \"English\"}},\n",
        "    {\"id\": 9, \"text\": \"A wizard’s job is to vex chumps quickly in fog\",\n",
        "     \"metadata\": {\"author\": \"John Doe\", \"category\": \"fantasy\", \"language\": \"English\"}},\n",
        "    {\"id\": 10, \"text\": \"Watch 'Jeopardy!', Alex Trebek's fun TV quiz game\",\n",
        "     \"metadata\": {\"category\": \"entertainment\", \"language\": \"English\"}}\n",
        "]"
      ],
      "metadata": {
        "id": "Smt3JRbjxfGN"
      },
      "execution_count": null,
      "outputs": []
    },
    {
      "cell_type": "code",
      "source": [
        "# 컬렉션 생성\n",
        "print(create_collection(collection_name))\n",
        "\n",
        "# 문서 추가\n",
        "for doc in documents:\n",
        "    print(add_document(collection_name, doc['id'], doc['text'], doc['metadata']))\n",
        "\n",
        "# ID로 유사 문서 검색\n",
        "print(search_similar_documents_by_id(collection_name, 1))\n",
        "\n",
        "# 입력 텍스트와 유사한 문서 검색\n",
        "print(search_similar_documents_by_text(collection_name, 'The slow red fox jumped over the fast dog'))\n",
        "\n",
        "# 필터 예시 (author가 \"John Doe\"인 사용자)\n",
        "filter_example = {\n",
        "    \"must\": [  # AND 논리연산자와 유사\n",
        "        {\n",
        "            \"key\": \"author\",\n",
        "            \"match\": {\n",
        "                \"value\": \"John Doe\"\n",
        "            }\n",
        "        }\n",
        "    ],\n",
        "    \"should\": [  # OR 논리연산자와 유사\n",
        "\n",
        "    ],\n",
        "    \"must_not\": [  # NOT 논리연산자와 유사\n",
        "\n",
        "    ]\n",
        "}\n",
        "\n",
        "# ID로 필터를 포함한 유사 문서 검색\n",
        "print(search_similar_documents_with_filters(collection_name, 2, filter_example))"
      ],
      "metadata": {
        "id": "9xcW24HXxgom"
      },
      "execution_count": null,
      "outputs": []
    }
  ]
}