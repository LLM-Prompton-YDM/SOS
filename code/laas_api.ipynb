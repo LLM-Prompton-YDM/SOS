{
 "cells": [
  {
   "cell_type": "code",
   "execution_count": 1,
   "metadata": {},
   "outputs": [],
   "source": [
    "import requests\n",
    "import json"
   ]
  },
  {
   "cell_type": "code",
   "execution_count": null,
   "metadata": {},
   "outputs": [],
   "source": [
    "response = requests.post( \n",
    "  url=\"https://api-laas.wanted.co.kr/api/preset/chat/completions\", \n",
    "  headers={\n",
    "      \"project\": \"GPT_TEST\",\n",
    "      \"apiKey\": \"apikey\", \n",
    "      \"Content-Type\": \"application/json; charset=utf-8\",\n",
    "},\n",
    "data=json.dumps({\n",
    "  \"hash\": \"f3bc11b983e969012e91869d3235252352351d3t432\", \n",
    "  \"params\": {\n",
    "   \"company\": \"원티드\" \n",
    "  }\n",
    "}))"
   ]
  },
  {
   "cell_type": "code",
   "execution_count": null,
   "metadata": {},
   "outputs": [],
   "source": []
  }
 ],
 "metadata": {
  "kernelspec": {
   "display_name": "Python 3",
   "language": "python",
   "name": "python3"
  },
  "language_info": {
   "codemirror_mode": {
    "name": "ipython",
    "version": 3
   },
   "file_extension": ".py",
   "mimetype": "text/x-python",
   "name": "python",
   "nbconvert_exporter": "python",
   "pygments_lexer": "ipython3",
   "version": "3.8.6"
  }
 },
 "nbformat": 4,
 "nbformat_minor": 2
}
