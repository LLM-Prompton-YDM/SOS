{
 "cells": [
  {
   "cell_type": "code",
   "execution_count": 23,
   "metadata": {},
   "outputs": [],
   "source": [
    "import requests\n",
    "import json\n",
    "import warnings\n",
    "warnings.filterwarnings('ignore')"
   ]
  },
  {
   "cell_type": "code",
   "execution_count": 24,
   "metadata": {},
   "outputs": [],
   "source": [
    "response = requests.post( \n",
    "  url=\"https://api-laas.wanted.co.kr/api/preset/chat/completions\", \n",
    "  headers={\n",
    "      \"project\": \"PROMPTHON_PRJ_449\",\n",
    "      \"apiKey\": \"5bb36195ea426905f66c6acbb570065f89a48562a0522e96da1133eddb4da985\", \n",
    "      \"Content-Type\": \"application/json; charset=utf-8\",\n",
    "},\n",
    "data=json.dumps({\n",
    "  \"hash\": \"9e4eb8e7f619d63865316eab7d47d530d5baaa7ee0fc6687c78493d8868e3997\", \n",
    "  \"params\": {\"location\":\"공급 예정인 위치(도시군구)\",\n",
    "             \"category\":\"행복주택, 임대주택과 같은 공급 유형\",\n",
    "             \"date\":\"공고 마감 날짜\"}\n",
    "}), verify=False)"
   ]
  },
  {
   "cell_type": "code",
   "execution_count": 25,
   "metadata": {},
   "outputs": [],
   "source": [
    "response_data = response.text\n",
    "result = json.loads(response_data)"
   ]
  },
  {
   "cell_type": "code",
   "execution_count": 26,
   "metadata": {},
   "outputs": [
    {
     "name": "stdout",
     "output_type": "stream",
     "text": [
      "1. 공고명 : (행복주택)양주시 관내 중소기업체 근로자기숙사용 건설임대주택 기업체 모집 공고\n",
      "지역명 : 경기도\n",
      "공고유형 : 임대주택\n",
      "공급대상 : 양주시 관내 중소기업체 근로자기숙사용 건설임대주택\n",
      "공고마감일 : 2024.07.15\n",
      "모집 공고 url : https://apply.**.**.**/lhapply/apply/wt/wrtanc/selectWrtancInfo.do?panId=2015122300016318&ccrCnntSysDsCd=03&uppAisTpCd=06&aisTpCd=10&mi=1026\n",
      "\n",
      "2. 공고명 : 양주회천 점포겸용 단독주택용지 선착순 수의계약 공급공고\n",
      "지역명 : 경기도\n",
      "공고유형 : 토지\n",
      "공급대상 : 양주회천 점포겸용 단독주택용지\n",
      "공고마감일 : 2025.07.01\n",
      "모집 공고 url : https://apply.**.**.**/lhapply/apply/wt/wrtanc/selectWrtancInfo.do?panId=BN-0006087&ccrCnntSysDsCd=01&uppAisTpCd=01&aisTpCd=01&mi=1062\n",
      "\n",
      "3. 공고명 : 고양장항 공공주택지구 공장이주대책용지 공급공고(3순위)\n",
      "지역명 : 경기도\n",
      "공고유형 : 토지\n",
      "공급대상 : 고양장항 공공주택지구 공장이주대책용지\n",
      "공고마감일 : 2024.08.07\n",
      "모집 공고 url : https://apply.**.**.**/lhapply/apply/wt/wrtanc/selectWrtancInfo.do?panId=BN-0006085&ccrCnntSysDsCd=01&uppAisTpCd=01&aisTpCd=01&mi=1062\n"
     ]
    }
   ],
   "source": [
    "content = result['choices'][0]['message']['content']\n",
    "print(content)"
   ]
  },
  {
   "cell_type": "code",
   "execution_count": null,
   "metadata": {},
   "outputs": [],
   "source": []
  }
 ],
 "metadata": {
  "kernelspec": {
   "display_name": "Python 3",
   "language": "python",
   "name": "python3"
  },
  "language_info": {
   "codemirror_mode": {
    "name": "ipython",
    "version": 3
   },
   "file_extension": ".py",
   "mimetype": "text/x-python",
   "name": "python",
   "nbconvert_exporter": "python",
   "pygments_lexer": "ipython3",
   "version": "3.8.6"
  }
 },
 "nbformat": 4,
 "nbformat_minor": 2
}
